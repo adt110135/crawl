{
  "nbformat": 4,
  "nbformat_minor": 0,
  "metadata": {
    "colab": {
      "provenance": []
    },
    "kernelspec": {
      "name": "python3",
      "display_name": "Python 3"
    },
    "language_info": {
      "name": "python"
    }
  },
  "cells": [
    {
      "cell_type": "code",
      "execution_count": 1,
      "metadata": {
        "colab": {
          "base_uri": "https://localhost:8080/"
        },
        "id": "cZ2OVr9oeF_9",
        "outputId": "7bee8e8d-657f-43f2-c6fd-bb9388de72af"
      },
      "outputs": [
        {
          "output_type": "stream",
          "name": "stdout",
          "text": [
            "標題：(@centralcee) • Instagram photos and videoswww.instagram.com › centralcee\n",
            "網址：/url?q=https://www.instagram.com/centralcee/%3Fhl%3Den&sa=U&ved=2ahUKEwiaofzYnImCAxXGGDQIHWv2DAwQFnoECAMQAg&usg=AOvVaw1fJHffN5WE6y4Cw30HipQr\n",
            "標題：Central Cee - Wikipediaen.wikipedia.org › wiki › Central_Cee\n",
            "網址：/url?q=https://en.wikipedia.org/wiki/Central_Cee&sa=U&ved=2ahUKEwiaofzYnImCAxXGGDQIHWv2DAwQFnoECAoQAg&usg=AOvVaw34t0LOO9PD6k2xAiobyVA-\n",
            "標題：Who is Central Cee? Religion, Ethnicity, Real Name & More Revealedwww.capitalxtra.com › news › who-is-central-cee-height-age-girlfriend-her...\n",
            "網址：/url?q=https://www.capitalxtra.com/news/who-is-central-cee-height-age-girlfriend-heritage-instagram-madeline-argy-songs/&sa=U&ved=2ahUKEwiaofzYnImCAxXGGDQIHWv2DAwQFnoECAsQAg&usg=AOvVaw1do5qUf2E-y1qBq6vUuaZ2\n",
            "標題：Central Cee - YouTubewww.youtube.com › channel\n",
            "網址：/url?q=https://www.youtube.com/channel/UCV_CsAy5CNBX_uwDQ7RMe1Q&sa=U&ved=2ahUKEwiaofzYnImCAxXGGDQIHWv2DAwQFnoECAQQAg&usg=AOvVaw3F1x-fi5ig8ebIwlygDFut\n",
            "標題：Central Cee - Doja (Directed by Cole Bennett) - YouTubewww.youtube.com › watch\n",
            "網址：/url?q=https://www.youtube.com/watch%3Fv%3D_VuJA-VQRcY&sa=U&ved=2ahUKEwiaofzYnImCAxXGGDQIHWv2DAwQtwJ6BAgHEAE&usg=AOvVaw0Cqf5Ie45gL8cWhoRSgPs7\n",
            "標題：\n",
            "網址：/url?q=https://www.youtube.com/watch%3Fv%3D_VuJA-VQRcY&sa=U&ved=2ahUKEwiaofzYnImCAxXGGDQIHWv2DAwQuAJ6BAgHEAI&usg=AOvVaw156hY43r52t9wwvh1uhIzj\n",
            "標題：Central Cee Lyrics, Songs, and Albums - Geniusgenius.com › artists › Central-cee\n",
            "網址：/url?q=https://genius.com/artists/Central-cee&sa=U&ved=2ahUKEwiaofzYnImCAxXGGDQIHWv2DAwQFnoECAUQAg&usg=AOvVaw0-AaTjA5PR4ATeNI4Rzxpp\n",
            "標題：Central Cee | Spotifyopen.spotify.com › artist\n",
            "網址：/url?q=https://open.spotify.com/artist/5H4yInM5zmHqpKIoMNAx4r&sa=U&ved=2ahUKEwiaofzYnImCAxXGGDQIHWv2DAwQFnoECAYQAg&usg=AOvVaw0g-JgrOVP9YPjxXvVpvLM3\n",
            "標題：CentralCee - TikTokwww.tiktok.com › @centralcee\n",
            "網址：/url?q=https://www.tiktok.com/%40centralcee%3Flang%3Den&sa=U&ved=2ahUKEwiaofzYnImCAxXGGDQIHWv2DAwQFnoECAkQAg&usg=AOvVaw28u5wY43yWRVszpB6_Q-5Z\n",
            "標題：Too many gyal #newmusic | Madelineargy - TikTokwww.tiktok.com › CentralCee (@centralcee) Official | TikTok\n",
            "網址：/url?q=https://www.tiktok.com/%40centralcee/video/7240189775280360731%3Flang%3Den&sa=U&ved=2ahUKEwiaofzYnImCAxXGGDQIHWv2DAwQtwJ6BAgCEAE&usg=AOvVaw3LbMKx68wAhqXQeo0DvaOz\n",
            "標題：\n",
            "網址：/url?q=https://www.tiktok.com/%40centralcee/video/7240189775280360731%3Flang%3Den&sa=U&ved=2ahUKEwiaofzYnImCAxXGGDQIHWv2DAwQuAJ6BAgCEAI&usg=AOvVaw08FVPbs72qacFTn2zpP-E1\n",
            "標題：Central Cee, the UK's biggest rap star: 'I have survivor's guilt. I don't ...www.theguardian.com › music › apr › central-cee-interview\n",
            "網址：/url?q=https://www.theguardian.com/music/2023/apr/07/central-cee-interview&sa=U&ved=2ahUKEwiaofzYnImCAxXGGDQIHWv2DAwQFnoECAgQAg&usg=AOvVaw3hCYpusmbKxmoLQO41pe1F\n"
          ]
        }
      ],
      "source": [
        "import requests\n",
        "from bs4 import BeautifulSoup\n",
        "\n",
        "# Google 搜尋 URL\n",
        "google_url = 'https://www.google.com.tw/search'\n",
        "\n",
        "# 查詢參數\n",
        "my_params = {'q': 'central cee'}\n",
        "\n",
        "# 下載 Google 搜尋結果\n",
        "r = requests.get(google_url, params = my_params)\n",
        "\n",
        "# 確認是否下載成功\n",
        "if r.status_code == requests.codes.ok:\n",
        "  # 以 BeautifulSoup 解析 HTML 原始碼\n",
        "  soup = BeautifulSoup(r.text, 'html.parser')\n",
        "\n",
        "  # 觀察 HTML 原始碼\n",
        "  #print(soup.prettify())\n",
        "\n",
        "  # 以 CSS 的選擇器來抓取 Google 的搜尋結果\n",
        "  items = soup.select('div.kCrYT > a[href^=\"/url\"]')\n",
        "\n",
        "  for i in items:\n",
        "    # 標題\n",
        "    print(\"標題：\" + i.text)\n",
        "    # 網址\n",
        "    print(\"網址：\" + i.get('href'))"
      ]
    }
  ]
}